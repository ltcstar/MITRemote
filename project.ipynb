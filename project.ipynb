{
 "cells": [
  {
   "cell_type": "code",
   "execution_count": 45,
   "metadata": {},
   "outputs": [
    {
     "name": "stderr",
     "output_type": "stream",
     "text": [
      "/home/starliu/anaconda3/lib/python3.7/site-packages/rasa_nlu/extractors/entity_synonyms.py:105: UserWarning: Found conflicting synonym definitions for 'apple'. Overwriting target 'AAPL' with 'APPL'. Check your training data and remove conflicting synonym definitions to prevent this from happening.\n",
      "  repr(replacement)))\n",
      "[Parallel(n_jobs=1)]: Using backend SequentialBackend with 1 concurrent workers.\n",
      "/home/starliu/anaconda3/lib/python3.7/site-packages/sklearn/metrics/classification.py:1143: UndefinedMetricWarning: F-score is ill-defined and being set to 0.0 in labels with no predicted samples.\n",
      "  'precision', 'predicted', average, warn_for)\n",
      "[Parallel(n_jobs=1)]: Done  12 out of  12 | elapsed:    0.1s finished\n"
     ]
    },
    {
     "name": "stdout",
     "output_type": "stream",
     "text": [
      "Fitting 2 folds for each of 6 candidates, totalling 12 fits\n"
     ]
    }
   ],
   "source": [
    "from rasa_nlu.training_data import load_data\n",
    "from rasa_nlu.config import RasaNLUModelConfig\n",
    "from rasa_nlu.model import Trainer\n",
    "from rasa_nlu import config\n",
    "\n",
    "trainer = Trainer(config.load(\"config_spacy.yml\"))\n",
    "training_data = load_data('test_data.json')\n",
    "interpreter = trainer.train(training_data)"
   ]
  },
  {
   "cell_type": "code",
   "execution_count": 2,
   "metadata": {},
   "outputs": [],
   "source": [
    "# iexfinance\n",
    "from iexfinance.stocks import Stock\n",
    "from iexfinance.stocks import get_historical_data\n",
    "from iexfinance.stocks import get_historical_intraday\n",
    "\n",
    "from datetime import datetime\n",
    "import time\n",
    "\n",
    "import matplotlib.pyplot as plt\n",
    "\n",
    "import random"
   ]
  },
  {
   "cell_type": "code",
   "execution_count": 3,
   "metadata": {},
   "outputs": [],
   "source": [
    "CONFUSE = -1\n",
    "INIT = 0\n",
    "MAIN = 1\n",
    "CURRENT = 2\n",
    "HISTORY = 3\n",
    "CLOSE = 4\n",
    "INTRADAY = 5"
   ]
  },
  {
   "cell_type": "code",
   "execution_count": 4,
   "metadata": {},
   "outputs": [],
   "source": [
    "responses = {\n",
    "    \"greet\":[\"Hi! I am a chatbot. What can I do for you?\",\n",
    "             \"Nice to meet you. I'm a chatbot and I'm ready to help you.\",\n",
    "            ],\n",
    "    \"thank\":[\"You're welcome. I hope to help you as much as I can!\",\n",
    "             \"I'm glad that I do help you!\",\n",
    "            ],\n",
    "    \"introduce\":[\"I can help you with: \\n1. Get current price\\n2. Get history price in a range\\n3. Get close price\\n4. Get intraday data\"],\n",
    "    \n",
    "    \"current_price\":[\"The current price of {} is {}\\n\",\n",
    "                     \"{} has a real-time price of {}\\n\",\n",
    "                    ], \n",
    "                 \n",
    "    \"vague\":[\"Please specify a range.\",\n",
    "             \"Which time do you want to know?\"\n",
    "            ],\n",
    "}\n",
    "\n",
    "def resp_sentence(intent):\n",
    "    return random.choice(responses[intent])"
   ]
  },
  {
   "cell_type": "code",
   "execution_count": 5,
   "metadata": {},
   "outputs": [],
   "source": [
    "policy_rules = {\n",
    "    (INIT, \"greet\"): (MAIN, resp_sentence(\"greet\"), None),\n",
    "    (MAIN, \"greet\"): (MAIN, resp_sentence(\"greet\"), None),\n",
    "    (MAIN, \"thank\"): (MAIN, resp_sentence(\"thank\"), None),\n",
    "    \n",
    "    (MAIN,\"introduce\"): (MAIN, resp_sentence(\"introduce\"), None),\n",
    "    \n",
    "    (MAIN, \"current_price\"): (CURRENT, resp_sentence(\"current_price\"), None),\n",
    "    (CURRENT, \"current_price\"): (CURRENT, resp_sentence(\"current_price\"), None),\n",
    "    (CURRENT, \"thank\"): (MAIN, resp_sentence(\"thank\"), None),\n",
    "   \n",
    "    (MAIN, \"daily_historical_price\"): (MAIN, \"Here is a figure:\", None),\n",
    "    (MAIN, \"daily_historical_price_vague\"): (MAIN, resp_sentence(\"vague\"), HISTORY),\n",
    "    (HISTORY, \"daily_historical_price_vague\"): (MAIN, resp_sentence(\"vague\"), HISTORY),\n",
    "    (MAIN, \"date_time\"): (HISTORY, \"Here is a figure:\", None),\n",
    "    (HISTORY, \"date_time\"): (HISTORY, \"Here is a figure:\", None),\n",
    "    (HISTORY, \"thank\"): (MAIN, resp_sentence(\"thank\"), None),\n",
    "    \n",
    "    (MAIN, \"close_price\"): (MAIN, \"Here is a figure:\", None),\n",
    "    (MAIN, \"close_price\"): (MAIN, resp_sentence(\"vague\"), CLOSE),\n",
    "    (CLOSE, \"close_price\"): (MAIN, resp_sentence(\"vague\"), CLOSE),\n",
    "    (MAIN, \"date_time\"): (CLOSE, \"Here is a figure:\", None),\n",
    "    (CLOSE, \"date_time\"): (CLOSE, \"Here is a figure:\", None),\n",
    "    (CLOSE, \"thank\"): (MAIN, resp_sentence(\"thank\"), None),\n",
    "    \n",
    "    (MAIN, \"intraday\"): (MAIN, \"Here is a figure:\", None),\n",
    "}"
   ]
  },
  {
   "cell_type": "code",
   "execution_count": 54,
   "metadata": {},
   "outputs": [],
   "source": [
    "def send_message(state, pending, message):\n",
    "    #print(\"old_state: \", state, \"message: \", message, \"pending: \", pending)\n",
    "    new_state, response, pending_state = respond(state, message)\n",
    "    \n",
    "    #print(\"new_state: \", new_state, \"response: \", response, \"pending_state: \", pending_state)\n",
    "    \n",
    "    if pending is not None:\n",
    "        new_state, response, pending_state = policy_rules[pending]\n",
    "    if pending_state is not None:\n",
    "        pending = (pending_state, get_intent(message))\n",
    "        \n",
    "    return new_state, pending, response, get_intent(message)\n",
    "\n",
    "known_company='AAPL'\n",
    "\n",
    "def respond(state, message):\n",
    "    entity = get_entity(message)\n",
    "\n",
    "    # print(\"res_state: \", state, \"intent: \", get_intent(message))\n",
    "    \n",
    "    try:\n",
    "        new_state = policy_rules[(state, get_intent(message))][0]\n",
    "        # print(new_state)\n",
    "    except KeyError:\n",
    "        new_state = CONFUSE\n",
    "        pending_state = policy_rules[(state, get_intent(message))][2]\n",
    "    \n",
    "    if get_intent(message) == 'greet':\n",
    "        response = policy_rules[(state, get_intent(message))][1]\n",
    "    if get_intent(message) == 'thank':\n",
    "        response = policy_rules[(state, get_intent(message))][1]\n",
    "    if get_intent(message) == 'introduce':\n",
    "        response = policy_rules[(state, get_intent(message))][1]\n",
    "        \n",
    "    \n",
    "    if get_intent(message) == 'current_price':\n",
    "        response = policy_rules[(state, get_intent(message))][1].format(entity, get_current_price(message))\n",
    "    if get_intent(message) == 'daily_historical_price':\n",
    "        response = policy_rules[(state, get_intent(message))][1]\n",
    "        get_history_price(message)\n",
    "    if get_intent(message) == 'vague':\n",
    "        response = policy_rules[(state, get_intent(message))][1]\n",
    "        known_company=get_company(message)\n",
    "    if get_intent(message) == 'date_time':\n",
    "        response = policy_rules[(state, get_intent(message))][1]\n",
    "        get_history_price(message)\n",
    "    \n",
    "\n",
    "    if get_intent(message) == 'close_price':\n",
    "        response = policy_rules[(state, get_intent(message))][1]\n",
    "        get_close_price(message)\n",
    "    if get_intent(message) == 'vague':\n",
    "        response = policy_rules[(state, get_intent(message))][1]\n",
    "        known_company=get_company(message)\n",
    "    if get_intent(message) == 'date_time':\n",
    "        response = policy_rules[(state, get_intent(message))][1]\n",
    "        get_close_price(message)\n",
    "    \n",
    "    if get_intent(message) == 'intraday':\n",
    "        response = policy_rules[(state, get_intent(message))][1]\n",
    "        get_intraday(message)\n",
    "    \n",
    "    return new_state, response, pending_state\n",
    "\n",
    "\n",
    "def get_intent(message):\n",
    "    return interpreter.parse(message)['intent']['name']\n",
    "\n",
    "def get_entity(message):\n",
    "    \n",
    "    if interpreter.parse(message)['entities'] == []:\n",
    "        return []\n",
    "    \n",
    "    if interpreter.parse(message)['entities'][0]['entity'] == 'company':\n",
    "        return interpreter.parse(message)['entities'][0]['value']\n",
    "  \n",
    "    return [interpreter.parse(message)['entities'][0]['value'],\n",
    "                interpreter.parse(message)['entities'][1]['value']]"
   ]
  },
  {
   "cell_type": "code",
   "execution_count": 61,
   "metadata": {},
   "outputs": [],
   "source": [
    "def get_company(message):\n",
    "    comprehended_data = interpreter.parse(message)\n",
    "    return comprehended_data['entities'][0]['value']\n",
    "\n",
    "def get_current_price(message):\n",
    "    company = get_company(message)\n",
    "    print(\"Company: \", company)\n",
    "    \n",
    "    prices = Stock(company,token = 'sk_9a194d45d5ea4f8389b05aec83b8ee43').get_price()\n",
    "    return prices\n",
    "\n",
    "def draw_picture(data):\n",
    "    plot = data.plot()\n",
    "    fig = plot.get_figure()\n",
    "    fig.savefig('result.png')\n",
    "    \n",
    "def get_history_price(message,known_company):\n",
    "    comprehended_data = interpreter.parse(message)\n",
    "    if len(comprehended_data['entities']) == 2:\n",
    "        time_period = [comprehended_data['entities'][0]['value'],\n",
    "                       comprehended_data['entities'][1]['value']]\n",
    "\n",
    "        start_time_splited = time_period[0].split(' - ')\n",
    "        end_time_splited = time_period[1].split(' - ')\n",
    "        \n",
    "        start_year = int(start_time_splited[0])\n",
    "        start_month = int(start_time_splited[1])\n",
    "        start_day = int(start_time_splited[2])\n",
    "        \n",
    "        end_year = int(end_time_splited[0])\n",
    "        end_month = int(end_time_splited[1])\n",
    "        end_day = int(end_time_splited[2])\n",
    "\n",
    "        start_time = datetime(start_year, start_month, start_day)\n",
    "        end_time = datetime(end_year, end_month, end_day)\n",
    "        \n",
    "        data = get_historical_data(known_company,start_time,end_time,output_format = 'pandas',token = 'sk_9a194d45d5ea4f8389b05aec83b8ee43')[['high','low','open','close','average']]\n",
    "    \n",
    "    else:\n",
    "        \n",
    "        time_period = [comprehended_data['entities'][1]['value'],\n",
    "                       comprehended_data['entities'][2]['value']]\n",
    "\n",
    "        start_time_splited = time_period[0].split('-')\n",
    "        end_time_splited = time_period[1].split('-')\n",
    "\n",
    "        start_year = int(start_time_splited[0])\n",
    "        start_month = int(start_time_splited[1])\n",
    "        start_day = int(start_time_splited[2])\n",
    "    \n",
    "        end_year = int(end_time_splited[0])\n",
    "        end_month = int(end_time_splited[1])\n",
    "        end_day = int(end_time_splited[2])\n",
    "\n",
    "        start_time = datetime(start_year, start_month, start_day)\n",
    "        end_time = datetime(end_year, end_month, end_day)\n",
    "        \n",
    "        data = get_historical_data(known_company,start_time,end_time,output_format = 'pandas',token = 'sk_9a194d45d5ea4f8389b05aec83b8ee43')[['high','low','open','close','average']]\n",
    "        \n",
    "    draw_picture(data)\n",
    "    \n",
    "    \n",
    "def get_close_price(message,known_company):\n",
    "    comprehended_data = interpreter.parse(message)\n",
    "    if len(comprehended_data['entities']) == 2:\n",
    "        time_period = [comprehended_data['entities'][0]['value'],\n",
    "                       comprehended_data['entities'][1]['value']]\n",
    "\n",
    "        start_time_splited = time_period[0].split(' - ')\n",
    "        end_time_splited = time_period[1].split(' - ')\n",
    "        \n",
    "        start_year = int(start_time_splited[0])\n",
    "        start_month = int(start_time_splited[1])\n",
    "        start_day = int(start_time_splited[2])\n",
    "        \n",
    "        end_year = int(end_time_splited[0])\n",
    "        end_month = int(end_time_splited[1])\n",
    "        end_day = int(end_time_splited[2])\n",
    "\n",
    "        start_time = datetime(start_year, start_month, start_day)\n",
    "        end_time = datetime(end_year, end_month, end_day)\n",
    "        \n",
    "        data = get_historical_data(known_company,start_time,end_time,close_only = True,output_format = 'pandas',token = 'sk_9a194d45d5ea4f8389b05aec83b8ee43')[['high','low','open','close','average']]\n",
    "    \n",
    "    else:\n",
    "        \n",
    "        time_period = [comprehended_data['entities'][1]['value'],\n",
    "                       comprehended_data['entities'][2]['value']]\n",
    "\n",
    "        start_time_splited = time_period[0].split('-')\n",
    "        end_time_splited = time_period[1].split('-')\n",
    "\n",
    "        start_year = int(start_time_splited[0])\n",
    "        start_month = int(start_time_splited[1])\n",
    "        start_day = int(start_time_splited[2])\n",
    "    \n",
    "        end_year = int(end_time_splited[0])\n",
    "        end_month = int(end_time_splited[1])\n",
    "        end_day = int(end_time_splited[2])\n",
    "\n",
    "        start_time = datetime(start_year, start_month, start_day)\n",
    "        end_time = datetime(end_year, end_month, end_day)\n",
    "        \n",
    "        data = get_historical_data(known_company,start_time,end_time,close_only = True,output_format = 'pandas',token = 'sk_9a194d45d5ea4f8389b05aec83b8ee43')[['high','low','open','close','average']]\n",
    "    \n",
    "    draw_picture(data)\n",
    "\n",
    "def get_intraday(message):\n",
    "    comprehended_data = interpreter.parse(message)\n",
    "    \n",
    "    if len(comprehended_data['entities']) == 1:\n",
    "        data=get_historical_intraday(comprehended_data['entities'][0]['value'],output_format = 'pandas',token = 'sk_9a194d45d5ea4f8389b05aec83b8ee43')[['high','low','open','close','average']]\n",
    "\n",
    "    else: \n",
    "        \n",
    "        if len(comprehended_data['entities']) == 2:\n",
    "            time_period = comprehended_data['entities'][1]['value']\n",
    "            time_splited = time_period.split('-')\n",
    "            \n",
    "            year = time_splited[0]\n",
    "            month = time_splited[1]\n",
    "            day = time_splited[2]\n",
    "            \n",
    "            time = datetime(year,month,day)\n",
    "            \n",
    "            data = get_historical_intraday(comprehended_data['entities'][0]['value'],date=time,output_format = 'pandas',token = 'sk_9a194d45d5ea4f8389b05aec83b8ee43')[['high','low','open','close','average']]\n",
    "\n",
    "    draw_picture(data)"
   ]
  },
  {
   "cell_type": "code",
   "execution_count": 69,
   "metadata": {},
   "outputs": [
    {
     "name": "stdout",
     "output_type": "stream",
     "text": [
      "I wanna know the intraday data of AAPL\n",
      "USER: I wanna know the intraday data of AAPL\n",
      "[Intent: intraday]\n",
      "old_state:  1 message:  I wanna know the intraday data of AAPL pending:  None\n",
      "new_state:  1 response:  Here is a figure: pending_state:  None\n",
      "BOT: Here is a figure:\n"
     ]
    },
    {
     "ename": "KeyboardInterrupt",
     "evalue": "",
     "output_type": "error",
     "traceback": [
      "\u001b[0;31m---------------------------------------------------------------------------\u001b[0m",
      "\u001b[0;31mKeyboardInterrupt\u001b[0m                         Traceback (most recent call last)",
      "\u001b[0;32m~/anaconda3/lib/python3.7/site-packages/ipykernel/kernelbase.py\u001b[0m in \u001b[0;36m_input_request\u001b[0;34m(self, prompt, ident, parent, password)\u001b[0m\n\u001b[1;32m    884\u001b[0m             \u001b[0;32mtry\u001b[0m\u001b[0;34m:\u001b[0m\u001b[0;34m\u001b[0m\u001b[0;34m\u001b[0m\u001b[0m\n\u001b[0;32m--> 885\u001b[0;31m                 \u001b[0mident\u001b[0m\u001b[0;34m,\u001b[0m \u001b[0mreply\u001b[0m \u001b[0;34m=\u001b[0m \u001b[0mself\u001b[0m\u001b[0;34m.\u001b[0m\u001b[0msession\u001b[0m\u001b[0;34m.\u001b[0m\u001b[0mrecv\u001b[0m\u001b[0;34m(\u001b[0m\u001b[0mself\u001b[0m\u001b[0;34m.\u001b[0m\u001b[0mstdin_socket\u001b[0m\u001b[0;34m,\u001b[0m \u001b[0;36m0\u001b[0m\u001b[0;34m)\u001b[0m\u001b[0;34m\u001b[0m\u001b[0;34m\u001b[0m\u001b[0m\n\u001b[0m\u001b[1;32m    886\u001b[0m             \u001b[0;32mexcept\u001b[0m \u001b[0mException\u001b[0m\u001b[0;34m:\u001b[0m\u001b[0;34m\u001b[0m\u001b[0;34m\u001b[0m\u001b[0m\n",
      "\u001b[0;32m~/anaconda3/lib/python3.7/site-packages/jupyter_client/session.py\u001b[0m in \u001b[0;36mrecv\u001b[0;34m(self, socket, mode, content, copy)\u001b[0m\n\u001b[1;32m    802\u001b[0m         \u001b[0;32mtry\u001b[0m\u001b[0;34m:\u001b[0m\u001b[0;34m\u001b[0m\u001b[0;34m\u001b[0m\u001b[0m\n\u001b[0;32m--> 803\u001b[0;31m             \u001b[0mmsg_list\u001b[0m \u001b[0;34m=\u001b[0m \u001b[0msocket\u001b[0m\u001b[0;34m.\u001b[0m\u001b[0mrecv_multipart\u001b[0m\u001b[0;34m(\u001b[0m\u001b[0mmode\u001b[0m\u001b[0;34m,\u001b[0m \u001b[0mcopy\u001b[0m\u001b[0;34m=\u001b[0m\u001b[0mcopy\u001b[0m\u001b[0;34m)\u001b[0m\u001b[0;34m\u001b[0m\u001b[0;34m\u001b[0m\u001b[0m\n\u001b[0m\u001b[1;32m    804\u001b[0m         \u001b[0;32mexcept\u001b[0m \u001b[0mzmq\u001b[0m\u001b[0;34m.\u001b[0m\u001b[0mZMQError\u001b[0m \u001b[0;32mas\u001b[0m \u001b[0me\u001b[0m\u001b[0;34m:\u001b[0m\u001b[0;34m\u001b[0m\u001b[0;34m\u001b[0m\u001b[0m\n",
      "\u001b[0;32m~/anaconda3/lib/python3.7/site-packages/zmq/sugar/socket.py\u001b[0m in \u001b[0;36mrecv_multipart\u001b[0;34m(self, flags, copy, track)\u001b[0m\n\u001b[1;32m    474\u001b[0m         \"\"\"\n\u001b[0;32m--> 475\u001b[0;31m         \u001b[0mparts\u001b[0m \u001b[0;34m=\u001b[0m \u001b[0;34m[\u001b[0m\u001b[0mself\u001b[0m\u001b[0;34m.\u001b[0m\u001b[0mrecv\u001b[0m\u001b[0;34m(\u001b[0m\u001b[0mflags\u001b[0m\u001b[0;34m,\u001b[0m \u001b[0mcopy\u001b[0m\u001b[0;34m=\u001b[0m\u001b[0mcopy\u001b[0m\u001b[0;34m,\u001b[0m \u001b[0mtrack\u001b[0m\u001b[0;34m=\u001b[0m\u001b[0mtrack\u001b[0m\u001b[0;34m)\u001b[0m\u001b[0;34m]\u001b[0m\u001b[0;34m\u001b[0m\u001b[0;34m\u001b[0m\u001b[0m\n\u001b[0m\u001b[1;32m    476\u001b[0m         \u001b[0;31m# have first part already, only loop while more to receive\u001b[0m\u001b[0;34m\u001b[0m\u001b[0;34m\u001b[0m\u001b[0;34m\u001b[0m\u001b[0m\n",
      "\u001b[0;32mzmq/backend/cython/socket.pyx\u001b[0m in \u001b[0;36mzmq.backend.cython.socket.Socket.recv\u001b[0;34m()\u001b[0m\n",
      "\u001b[0;32mzmq/backend/cython/socket.pyx\u001b[0m in \u001b[0;36mzmq.backend.cython.socket.Socket.recv\u001b[0;34m()\u001b[0m\n",
      "\u001b[0;32mzmq/backend/cython/socket.pyx\u001b[0m in \u001b[0;36mzmq.backend.cython.socket._recv_copy\u001b[0;34m()\u001b[0m\n",
      "\u001b[0;32m~/anaconda3/lib/python3.7/site-packages/zmq/backend/cython/checkrc.pxd\u001b[0m in \u001b[0;36mzmq.backend.cython.checkrc._check_rc\u001b[0;34m()\u001b[0m\n",
      "\u001b[0;31mKeyboardInterrupt\u001b[0m: ",
      "\nDuring handling of the above exception, another exception occurred:\n",
      "\u001b[0;31mKeyboardInterrupt\u001b[0m                         Traceback (most recent call last)",
      "\u001b[0;32m<ipython-input-69-287914a3c5ac>\u001b[0m in \u001b[0;36m<module>\u001b[0;34m\u001b[0m\n\u001b[1;32m      3\u001b[0m     \u001b[0mpending\u001b[0m \u001b[0;34m=\u001b[0m \u001b[0;32mNone\u001b[0m\u001b[0;34m\u001b[0m\u001b[0;34m\u001b[0m\u001b[0m\n\u001b[1;32m      4\u001b[0m \u001b[0;34m\u001b[0m\u001b[0m\n\u001b[0;32m----> 5\u001b[0;31m     \u001b[0mmsg\u001b[0m \u001b[0;34m=\u001b[0m \u001b[0minput\u001b[0m\u001b[0;34m(\u001b[0m\u001b[0;34m)\u001b[0m\u001b[0;34m\u001b[0m\u001b[0;34m\u001b[0m\u001b[0m\n\u001b[0m\u001b[1;32m      6\u001b[0m     \u001b[0mprint\u001b[0m\u001b[0;34m(\u001b[0m\u001b[0;34m\"USER: \"\u001b[0m \u001b[0;34m+\u001b[0m \u001b[0mmsg\u001b[0m\u001b[0;34m)\u001b[0m\u001b[0;34m\u001b[0m\u001b[0;34m\u001b[0m\u001b[0m\n\u001b[1;32m      7\u001b[0m     \u001b[0mprint\u001b[0m\u001b[0;34m(\u001b[0m\u001b[0;34m\"[Intent: \"\u001b[0m \u001b[0;34m+\u001b[0m \u001b[0mget_intent\u001b[0m\u001b[0;34m(\u001b[0m\u001b[0mmsg\u001b[0m\u001b[0;34m)\u001b[0m \u001b[0;34m+\u001b[0m \u001b[0;34m\"]\"\u001b[0m\u001b[0;34m)\u001b[0m\u001b[0;34m\u001b[0m\u001b[0;34m\u001b[0m\u001b[0m\n",
      "\u001b[0;32m~/anaconda3/lib/python3.7/site-packages/ipykernel/kernelbase.py\u001b[0m in \u001b[0;36mraw_input\u001b[0;34m(self, prompt)\u001b[0m\n\u001b[1;32m    858\u001b[0m             \u001b[0mself\u001b[0m\u001b[0;34m.\u001b[0m\u001b[0m_parent_ident\u001b[0m\u001b[0;34m,\u001b[0m\u001b[0;34m\u001b[0m\u001b[0;34m\u001b[0m\u001b[0m\n\u001b[1;32m    859\u001b[0m             \u001b[0mself\u001b[0m\u001b[0;34m.\u001b[0m\u001b[0m_parent_header\u001b[0m\u001b[0;34m,\u001b[0m\u001b[0;34m\u001b[0m\u001b[0;34m\u001b[0m\u001b[0m\n\u001b[0;32m--> 860\u001b[0;31m             \u001b[0mpassword\u001b[0m\u001b[0;34m=\u001b[0m\u001b[0;32mFalse\u001b[0m\u001b[0;34m,\u001b[0m\u001b[0;34m\u001b[0m\u001b[0;34m\u001b[0m\u001b[0m\n\u001b[0m\u001b[1;32m    861\u001b[0m         )\n\u001b[1;32m    862\u001b[0m \u001b[0;34m\u001b[0m\u001b[0m\n",
      "\u001b[0;32m~/anaconda3/lib/python3.7/site-packages/ipykernel/kernelbase.py\u001b[0m in \u001b[0;36m_input_request\u001b[0;34m(self, prompt, ident, parent, password)\u001b[0m\n\u001b[1;32m    888\u001b[0m             \u001b[0;32mexcept\u001b[0m \u001b[0mKeyboardInterrupt\u001b[0m\u001b[0;34m:\u001b[0m\u001b[0;34m\u001b[0m\u001b[0;34m\u001b[0m\u001b[0m\n\u001b[1;32m    889\u001b[0m                 \u001b[0;31m# re-raise KeyboardInterrupt, to truncate traceback\u001b[0m\u001b[0;34m\u001b[0m\u001b[0;34m\u001b[0m\u001b[0;34m\u001b[0m\u001b[0m\n\u001b[0;32m--> 890\u001b[0;31m                 \u001b[0;32mraise\u001b[0m \u001b[0mKeyboardInterrupt\u001b[0m\u001b[0;34m\u001b[0m\u001b[0;34m\u001b[0m\u001b[0m\n\u001b[0m\u001b[1;32m    891\u001b[0m             \u001b[0;32melse\u001b[0m\u001b[0;34m:\u001b[0m\u001b[0;34m\u001b[0m\u001b[0;34m\u001b[0m\u001b[0m\n\u001b[1;32m    892\u001b[0m                 \u001b[0;32mbreak\u001b[0m\u001b[0;34m\u001b[0m\u001b[0;34m\u001b[0m\u001b[0m\n",
      "\u001b[0;31mKeyboardInterrupt\u001b[0m: "
     ]
    },
    {
     "data": {
      "image/png": "[encoded data removed]",
      "text/plain": [
       "<Figure size 432x288 with 1 Axes>"
      ]
     },
     "metadata": {
      "needs_background": "light"
     },
     "output_type": "display_data"
    }
   ],
   "source": [
    "while True:\n",
    "    state = MAIN\n",
    "    pending = None\n",
    "\n",
    "    msg = input()\n",
    "    print(\"USER: \" + msg)\n",
    "    print(\"[Intent: \" + get_intent(msg) + \"]\")\n",
    "\n",
    "    state, pending, final_response, message_intent = send_message(state, pending, msg)\n",
    "\n",
    "    print(\"BOT: \" + final_response)"
   ]
  },
  {
   "cell_type": "code",
   "execution_count": 30,
   "metadata": {},
   "outputs": [
    {
     "data": {
      "text/plain": [
       "'intraday'"
      ]
     },
     "execution_count": 30,
     "metadata": {},
     "output_type": "execute_result"
    }
   ],
   "source": [
    "get_intent('i wanna know the intraday data of AAPL')"
   ]
  },
  {
   "cell_type": "code",
   "execution_count": 25,
   "metadata": {},
   "outputs": [
    {
     "data": {
      "text/plain": [
       "'current_price'"
      ]
     },
     "execution_count": 25,
     "metadata": {},
     "output_type": "execute_result"
    }
   ],
   "source": [
    "get_intent('i wanna know the current price of AAPL')"
   ]
  },
  {
   "cell_type": "code",
   "execution_count": 26,
   "metadata": {},
   "outputs": [
    {
     "data": {
      "text/plain": [
       "'close_price_vague'"
      ]
     },
     "execution_count": 26,
     "metadata": {},
     "output_type": "execute_result"
    }
   ],
   "source": [
    "get_intent('what is the close price of AAPL')"
   ]
  },
  {
   "cell_type": "code",
   "execution_count": 27,
   "metadata": {},
   "outputs": [
    {
     "data": {
      "text/plain": [
       "'close_price_vague'"
      ]
     },
     "execution_count": 27,
     "metadata": {},
     "output_type": "execute_result"
    }
   ],
   "source": [
    "get_intent('tell me the close price of AAPL')"
   ]
  },
  {
   "cell_type": "code",
   "execution_count": 28,
   "metadata": {},
   "outputs": [
    {
     "data": {
      "text/plain": [
       "'current_price'"
      ]
     },
     "execution_count": 28,
     "metadata": {},
     "output_type": "execute_result"
    }
   ],
   "source": [
    "get_intent('the current price of AAPL')"
   ]
  },
  {
   "cell_type": "code",
   "execution_count": 29,
   "metadata": {},
   "outputs": [
    {
     "data": {
      "text/plain": [
       "'date_time'"
      ]
     },
     "execution_count": 29,
     "metadata": {},
     "output_type": "execute_result"
    }
   ],
   "source": [
    "get_intent('from 2018-1-1 to 2019-3-7')"
   ]
  },
  {
   "cell_type": "code",
   "execution_count": 46,
   "metadata": {},
   "outputs": [
    {
     "data": {
      "text/plain": [
       "'daily_historical_price_vague'"
      ]
     },
     "execution_count": 46,
     "metadata": {},
     "output_type": "execute_result"
    }
   ],
   "source": [
    "get_intent('i wanna know the history price of apple')"
   ]
  },
  {
   "cell_type": "code",
   "execution_count": 59,
   "metadata": {},
   "outputs": [],
   "source": [
    "data = get_historical_intraday('AAPL',output_format='pandas',token='sk_9a194d45d5ea4f8389b05aec83b8ee43')[['high','low','open','close','average']]"
   ]
  },
  {
   "cell_type": "code",
   "execution_count": 58,
   "metadata": {},
   "outputs": [
    {
     "data": {
      "text/html": [
       "<div>\n",
       "<style scoped>\n",
       "    .dataframe tbody tr th:only-of-type {\n",
       "        vertical-align: middle;\n",
       "    }\n",
       "\n",
       "    .dataframe tbody tr th {\n",
       "        vertical-align: top;\n",
       "    }\n",
       "\n",
       "    .dataframe thead th {\n",
       "        text-align: right;\n",
       "    }\n",
       "</style>\n",
       "<table border=\"1\" class=\"dataframe\">\n",
       "  <thead>\n",
       "    <tr style=\"text-align: right;\">\n",
       "      <th></th>\n",
       "      <th>high</th>\n",
       "      <th>low</th>\n",
       "      <th>open</th>\n",
       "      <th>close</th>\n",
       "      <th>average</th>\n",
       "    </tr>\n",
       "  </thead>\n",
       "  <tbody>\n",
       "    <tr>\n",
       "      <td>2020-01-14 09:30:00</td>\n",
       "      <td>317.115</td>\n",
       "      <td>316.290</td>\n",
       "      <td>316.645</td>\n",
       "      <td>316.670</td>\n",
       "      <td>316.927</td>\n",
       "    </tr>\n",
       "    <tr>\n",
       "      <td>2020-01-14 09:31:00</td>\n",
       "      <td>316.780</td>\n",
       "      <td>316.000</td>\n",
       "      <td>316.630</td>\n",
       "      <td>316.260</td>\n",
       "      <td>316.234</td>\n",
       "    </tr>\n",
       "    <tr>\n",
       "      <td>2020-01-14 09:32:00</td>\n",
       "      <td>316.235</td>\n",
       "      <td>315.875</td>\n",
       "      <td>315.920</td>\n",
       "      <td>316.070</td>\n",
       "      <td>315.967</td>\n",
       "    </tr>\n",
       "    <tr>\n",
       "      <td>2020-01-14 09:33:00</td>\n",
       "      <td>316.080</td>\n",
       "      <td>315.615</td>\n",
       "      <td>316.080</td>\n",
       "      <td>315.945</td>\n",
       "      <td>315.812</td>\n",
       "    </tr>\n",
       "    <tr>\n",
       "      <td>2020-01-14 09:34:00</td>\n",
       "      <td>316.380</td>\n",
       "      <td>315.930</td>\n",
       "      <td>315.960</td>\n",
       "      <td>316.380</td>\n",
       "      <td>316.003</td>\n",
       "    </tr>\n",
       "    <tr>\n",
       "      <td>...</td>\n",
       "      <td>...</td>\n",
       "      <td>...</td>\n",
       "      <td>...</td>\n",
       "      <td>...</td>\n",
       "      <td>...</td>\n",
       "    </tr>\n",
       "    <tr>\n",
       "      <td>2020-01-14 15:55:00</td>\n",
       "      <td>312.745</td>\n",
       "      <td>312.600</td>\n",
       "      <td>312.630</td>\n",
       "      <td>312.640</td>\n",
       "      <td>312.670</td>\n",
       "    </tr>\n",
       "    <tr>\n",
       "      <td>2020-01-14 15:56:00</td>\n",
       "      <td>312.640</td>\n",
       "      <td>312.460</td>\n",
       "      <td>312.640</td>\n",
       "      <td>312.590</td>\n",
       "      <td>312.529</td>\n",
       "    </tr>\n",
       "    <tr>\n",
       "      <td>2020-01-14 15:57:00</td>\n",
       "      <td>312.530</td>\n",
       "      <td>312.440</td>\n",
       "      <td>312.530</td>\n",
       "      <td>312.470</td>\n",
       "      <td>312.486</td>\n",
       "    </tr>\n",
       "    <tr>\n",
       "      <td>2020-01-14 15:58:00</td>\n",
       "      <td>312.590</td>\n",
       "      <td>312.440</td>\n",
       "      <td>312.460</td>\n",
       "      <td>312.440</td>\n",
       "      <td>312.536</td>\n",
       "    </tr>\n",
       "    <tr>\n",
       "      <td>2020-01-14 15:59:00</td>\n",
       "      <td>312.690</td>\n",
       "      <td>312.590</td>\n",
       "      <td>312.600</td>\n",
       "      <td>312.670</td>\n",
       "      <td>312.651</td>\n",
       "    </tr>\n",
       "  </tbody>\n",
       "</table>\n",
       "<p>390 rows × 5 columns</p>\n",
       "</div>"
      ],
      "text/plain": [
       "                        high      low     open    close  average\n",
       "2020-01-14 09:30:00  317.115  316.290  316.645  316.670  316.927\n",
       "2020-01-14 09:31:00  316.780  316.000  316.630  316.260  316.234\n",
       "2020-01-14 09:32:00  316.235  315.875  315.920  316.070  315.967\n",
       "2020-01-14 09:33:00  316.080  315.615  316.080  315.945  315.812\n",
       "2020-01-14 09:34:00  316.380  315.930  315.960  316.380  316.003\n",
       "...                      ...      ...      ...      ...      ...\n",
       "2020-01-14 15:55:00  312.745  312.600  312.630  312.640  312.670\n",
       "2020-01-14 15:56:00  312.640  312.460  312.640  312.590  312.529\n",
       "2020-01-14 15:57:00  312.530  312.440  312.530  312.470  312.486\n",
       "2020-01-14 15:58:00  312.590  312.440  312.460  312.440  312.536\n",
       "2020-01-14 15:59:00  312.690  312.590  312.600  312.670  312.651\n",
       "\n",
       "[390 rows x 5 columns]"
      ]
     },
     "execution_count": 58,
     "metadata": {},
     "output_type": "execute_result"
    }
   ],
   "source": [
    "get_historical_intraday('AAPL',output_format='pandas',token='sk_9a194d45d5ea4f8389b05aec83b8ee43')[['high','low','open','close','average']]"
   ]
  },
  {
   "cell_type": "code",
   "execution_count": 60,
   "metadata": {},
   "outputs": [
    {
     "data": {
      "image/png": "[encoded data removed]",
      "text/plain": [
       "<Figure size 432x288 with 1 Axes>"
      ]
     },
     "metadata": {
      "needs_background": "light"
     },
     "output_type": "display_data"
    }
   ],
   "source": [
    "plot=data.plot()"
   ]
  },
  {
   "cell_type": "code",
   "execution_count": 50,
   "metadata": {},
   "outputs": [],
   "source": [
    "fig=plot.get_figure()"
   ]
  },
  {
   "cell_type": "code",
   "execution_count": 52,
   "metadata": {},
   "outputs": [],
   "source": [
    "fig.savefig('result.png')"
   ]
  },
  {
   "cell_type": "code",
   "execution_count": 66,
   "metadata": {},
   "outputs": [
    {
     "name": "stderr",
     "output_type": "stream",
     "text": [
      "Getting uuid of QR code.\n",
      "Downloading QR code.\n",
      "Please scan the QR code to log in.\n",
      "Please press confirm on your phone.\n",
      "Loading the contact, this may take a little while.\n"
     ]
    },
    {
     "ename": "KeyError",
     "evalue": "'pass_ticket'",
     "output_type": "error",
     "traceback": [
      "\u001b[0;31m---------------------------------------------------------------------------\u001b[0m",
      "\u001b[0;31mKeyError\u001b[0m                                  Traceback (most recent call last)",
      "\u001b[0;32m<ipython-input-66-a8bcdc2dc0a4>\u001b[0m in \u001b[0;36m<module>\u001b[0;34m\u001b[0m\n\u001b[1;32m      2\u001b[0m \u001b[0;34m\u001b[0m\u001b[0m\n\u001b[1;32m      3\u001b[0m \u001b[0;31m# 创建bot\u001b[0m\u001b[0;34m\u001b[0m\u001b[0;34m\u001b[0m\u001b[0;34m\u001b[0m\u001b[0m\n\u001b[0;32m----> 4\u001b[0;31m \u001b[0mbot\u001b[0m \u001b[0;34m=\u001b[0m \u001b[0mBot\u001b[0m\u001b[0;34m(\u001b[0m\u001b[0;34m)\u001b[0m\u001b[0;34m\u001b[0m\u001b[0;34m\u001b[0m\u001b[0m\n\u001b[0m\u001b[1;32m      5\u001b[0m \u001b[0;34m\u001b[0m\u001b[0m\n\u001b[1;32m      6\u001b[0m \u001b[0;31m# 对话对象\u001b[0m\u001b[0;34m\u001b[0m\u001b[0;34m\u001b[0m\u001b[0;34m\u001b[0m\u001b[0m\n",
      "\u001b[0;32m~/anaconda3/lib/python3.7/site-packages/wxpy/api/bot.py\u001b[0m in \u001b[0;36m__init__\u001b[0;34m(self, cache_path, console_qr, qr_path, qr_callback, login_callback, logout_callback)\u001b[0m\n\u001b[1;32m     84\u001b[0m                 \u001b[0mhotReload\u001b[0m\u001b[0;34m=\u001b[0m\u001b[0mbool\u001b[0m\u001b[0;34m(\u001b[0m\u001b[0mcache_path\u001b[0m\u001b[0;34m)\u001b[0m\u001b[0;34m,\u001b[0m \u001b[0mstatusStorageDir\u001b[0m\u001b[0;34m=\u001b[0m\u001b[0mcache_path\u001b[0m\u001b[0;34m,\u001b[0m\u001b[0;34m\u001b[0m\u001b[0;34m\u001b[0m\u001b[0m\n\u001b[1;32m     85\u001b[0m                 \u001b[0menableCmdQR\u001b[0m\u001b[0;34m=\u001b[0m\u001b[0mconsole_qr\u001b[0m\u001b[0;34m,\u001b[0m \u001b[0mpicDir\u001b[0m\u001b[0;34m=\u001b[0m\u001b[0mqr_path\u001b[0m\u001b[0;34m,\u001b[0m \u001b[0mqrCallback\u001b[0m\u001b[0;34m=\u001b[0m\u001b[0mqr_callback\u001b[0m\u001b[0;34m,\u001b[0m\u001b[0;34m\u001b[0m\u001b[0;34m\u001b[0m\u001b[0m\n\u001b[0;32m---> 86\u001b[0;31m                 \u001b[0mloginCallback\u001b[0m\u001b[0;34m=\u001b[0m\u001b[0mlogin_callback\u001b[0m\u001b[0;34m,\u001b[0m \u001b[0mexitCallback\u001b[0m\u001b[0;34m=\u001b[0m\u001b[0mlogout_callback\u001b[0m\u001b[0;34m\u001b[0m\u001b[0;34m\u001b[0m\u001b[0m\n\u001b[0m\u001b[1;32m     87\u001b[0m             )\n\u001b[1;32m     88\u001b[0m         \u001b[0;32mexcept\u001b[0m \u001b[0mFileNotFoundError\u001b[0m \u001b[0;32mas\u001b[0m \u001b[0me\u001b[0m\u001b[0;34m:\u001b[0m\u001b[0;34m\u001b[0m\u001b[0;34m\u001b[0m\u001b[0m\n",
      "\u001b[0;32m~/anaconda3/lib/python3.7/site-packages/itchat/components/register.py\u001b[0m in \u001b[0;36mauto_login\u001b[0;34m(self, hotReload, statusStorageDir, enableCmdQR, picDir, qrCallback, loginCallback, exitCallback)\u001b[0m\n\u001b[1;32m     33\u001b[0m     \u001b[0;32melse\u001b[0m\u001b[0;34m:\u001b[0m\u001b[0;34m\u001b[0m\u001b[0;34m\u001b[0m\u001b[0m\n\u001b[1;32m     34\u001b[0m         self.login(enableCmdQR=enableCmdQR, picDir=picDir, qrCallback=qrCallback,\n\u001b[0;32m---> 35\u001b[0;31m             loginCallback=loginCallback, exitCallback=exitCallback)\n\u001b[0m\u001b[1;32m     36\u001b[0m \u001b[0;34m\u001b[0m\u001b[0m\n\u001b[1;32m     37\u001b[0m \u001b[0;32mdef\u001b[0m \u001b[0mconfigured_reply\u001b[0m\u001b[0;34m(\u001b[0m\u001b[0mself\u001b[0m\u001b[0;34m)\u001b[0m\u001b[0;34m:\u001b[0m\u001b[0;34m\u001b[0m\u001b[0;34m\u001b[0m\u001b[0m\n",
      "\u001b[0;32m~/anaconda3/lib/python3.7/site-packages/itchat/components/login.py\u001b[0m in \u001b[0;36mlogin\u001b[0;34m(self, enableCmdQR, picDir, qrCallback, loginCallback, exitCallback)\u001b[0m\n\u001b[1;32m     64\u001b[0m     \u001b[0mlogger\u001b[0m\u001b[0;34m.\u001b[0m\u001b[0minfo\u001b[0m\u001b[0;34m(\u001b[0m\u001b[0;34m'Loading the contact, this may take a little while.'\u001b[0m\u001b[0;34m)\u001b[0m\u001b[0;34m\u001b[0m\u001b[0;34m\u001b[0m\u001b[0m\n\u001b[1;32m     65\u001b[0m     \u001b[0mself\u001b[0m\u001b[0;34m.\u001b[0m\u001b[0mweb_init\u001b[0m\u001b[0;34m(\u001b[0m\u001b[0;34m)\u001b[0m\u001b[0;34m\u001b[0m\u001b[0;34m\u001b[0m\u001b[0m\n\u001b[0;32m---> 66\u001b[0;31m     \u001b[0mself\u001b[0m\u001b[0;34m.\u001b[0m\u001b[0mshow_mobile_login\u001b[0m\u001b[0;34m(\u001b[0m\u001b[0;34m)\u001b[0m\u001b[0;34m\u001b[0m\u001b[0;34m\u001b[0m\u001b[0m\n\u001b[0m\u001b[1;32m     67\u001b[0m     \u001b[0mself\u001b[0m\u001b[0;34m.\u001b[0m\u001b[0mget_contact\u001b[0m\u001b[0;34m(\u001b[0m\u001b[0;32mTrue\u001b[0m\u001b[0;34m)\u001b[0m\u001b[0;34m\u001b[0m\u001b[0;34m\u001b[0m\u001b[0m\n\u001b[1;32m     68\u001b[0m     \u001b[0;32mif\u001b[0m \u001b[0mhasattr\u001b[0m\u001b[0;34m(\u001b[0m\u001b[0mloginCallback\u001b[0m\u001b[0;34m,\u001b[0m \u001b[0;34m'__call__'\u001b[0m\u001b[0;34m)\u001b[0m\u001b[0;34m:\u001b[0m\u001b[0;34m\u001b[0m\u001b[0;34m\u001b[0m\u001b[0m\n",
      "\u001b[0;32m~/anaconda3/lib/python3.7/site-packages/itchat/components/login.py\u001b[0m in \u001b[0;36mshow_mobile_login\u001b[0;34m(self)\u001b[0m\n\u001b[1;32m    210\u001b[0m \u001b[0;32mdef\u001b[0m \u001b[0mshow_mobile_login\u001b[0m\u001b[0;34m(\u001b[0m\u001b[0mself\u001b[0m\u001b[0;34m)\u001b[0m\u001b[0;34m:\u001b[0m\u001b[0;34m\u001b[0m\u001b[0;34m\u001b[0m\u001b[0m\n\u001b[1;32m    211\u001b[0m     url = '%s/webwxstatusnotify?lang=zh_CN&pass_ticket=%s' % (\n\u001b[0;32m--> 212\u001b[0;31m         self.loginInfo['url'], self.loginInfo['pass_ticket'])\n\u001b[0m\u001b[1;32m    213\u001b[0m     data = {\n\u001b[1;32m    214\u001b[0m         \u001b[0;34m'BaseRequest'\u001b[0m  \u001b[0;34m:\u001b[0m \u001b[0mself\u001b[0m\u001b[0;34m.\u001b[0m\u001b[0mloginInfo\u001b[0m\u001b[0;34m[\u001b[0m\u001b[0;34m'BaseRequest'\u001b[0m\u001b[0;34m]\u001b[0m\u001b[0;34m,\u001b[0m\u001b[0;34m\u001b[0m\u001b[0;34m\u001b[0m\u001b[0m\n",
      "\u001b[0;31mKeyError\u001b[0m: 'pass_ticket'"
     ]
    }
   ],
   "source": [
    "from wxpy import *\n",
    "\n",
    "bot = Bot()\n",
    "\n",
    "my_friend = bot.friends().search('天岑Star')[0]\n",
    "\n",
    "\n",
    "@bot.register(my_friend, TEXT)\n",
    "def auto_reply(msg):\n",
    "    state = MAIN\n",
    "    pending = None\n",
    "    print(get_intent(msg.text))\n",
    "    \n",
    "    state, pending, final_response, message_intent = send_message(state, pending, msg.text)\n",
    "    msg.reply(final_response)\n",
    "    \n",
    "    if message_intent == 'clear_historical_data' or message_intent == 'add_historical_data':\n",
    "        msg.reply_image('result.png')\n",
    "    return fianl_response\n",
    "\n",
    "bot.join()\n"
   ]
  },
  {
   "cell_type": "code",
   "execution_count": null,
   "metadata": {},
   "outputs": [],
   "source": []
  }
 ],
 "metadata": {
  "kernelspec": {
   "display_name": "Python 3",
   "language": "python",
   "name": "python3"
  },
  "language_info": {
   "codemirror_mode": {
    "name": "ipython",
    "version": 3
   },
   "file_extension": ".py",
   "mimetype": "text/x-python",
   "name": "python",
   "nbconvert_exporter": "python",
   "pygments_lexer": "ipython3",
   "version": "3.7.4"
  }
 },
 "nbformat": 4,
 "nbformat_minor": 2
}
